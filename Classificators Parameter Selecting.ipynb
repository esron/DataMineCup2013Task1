{
 "cells": [
  {
   "cell_type": "markdown",
   "metadata": {},
   "source": [
    "# Selecionando parâmetros para o KNN\n",
    "\n",
    "Neste notebook selecionaremos o melhor valor de K para o algoritmo de seleção KNN"
   ]
  },
  {
   "cell_type": "markdown",
   "metadata": {},
   "source": [
    "### Importar as bibliotecas"
   ]
  },
  {
   "cell_type": "code",
   "execution_count": 1,
   "metadata": {
    "collapsed": true
   },
   "outputs": [],
   "source": [
    "import pandas as pd\n",
    "import matplotlib.pyplot as plt\n",
    "from sklearn.neighbors import KNeighborsClassifier\n",
    "from sklearn.ensemble import RandomForestClassifier\n",
    "from sklearn.metrics import accuracy_score\n",
    "from sklearn.tree import DecisionTreeClassifier"
   ]
  },
  {
   "cell_type": "markdown",
   "metadata": {},
   "source": [
    "### Carregar os dados "
   ]
  },
  {
   "cell_type": "code",
   "execution_count": 2,
   "metadata": {},
   "outputs": [],
   "source": [
    "# Dados de treinameto\n",
    "training_mean = pd.read_csv(\"data/training_mean.csv\").set_index('sessionNo') # Missing values substituídos pela média\n",
    "training_mode = pd.read_csv(\"data/training_mode.csv\").set_index('sessionNo') # Missing values substituídos pela moda\n",
    "training_median = pd.read_csv(\"data/training_median.csv\").set_index('sessionNo') # Missing values substitídos pela mediana\n",
    "\n",
    "# Dados de teste\n",
    "testing_mean = pd.read_csv(\"data/testing_mean.csv\").set_index('sessionNo') # Missing values substituídos pela média\n",
    "testing_mode = pd.read_csv(\"data/testing_mode.csv\").set_index('sessionNo') # Missing values substituídos pela moda\n",
    "testing_median = pd.read_csv(\"data/testing_median.csv\").set_index('sessionNo') # Missing values substitídos pela mediana"
   ]
  },
  {
   "cell_type": "markdown",
   "metadata": {},
   "source": [
    "## Escolher o melhor parâmetro K para o KNN e a melhor estratégia para tratamento de missing values"
   ]
  },
  {
   "cell_type": "markdown",
   "metadata": {},
   "source": [
    "### Separar um dataframe em um vetor de características e  um vetor de classe"
   ]
  },
  {
   "cell_type": "code",
   "execution_count": 3,
   "metadata": {},
   "outputs": [],
   "source": [
    "def splitData(df):\n",
    "    x = df.iloc[:, :-1]\n",
    "    y = df['order']\n",
    "    return x, y"
   ]
  },
  {
   "cell_type": "markdown",
   "metadata": {
    "collapsed": true
   },
   "source": [
    "### Testar o classificador\n",
    "\n",
    "Variando o valor de k entre 1 e 201 passo 2"
   ]
  },
  {
   "cell_type": "code",
   "execution_count": 4,
   "metadata": {
    "collapsed": true
   },
   "outputs": [],
   "source": [
    "def makeErrosKnn(df_train, df_test, length):\n",
    "    x_train, y_train = splitData(df_train)\n",
    "    x_test, y_test = splitData(df_test)\n",
    "    ks = list(range(1, length, 2))\n",
    "    errors = []\n",
    "    \n",
    "    for k in ks:\n",
    "        knn = KNeighborsClassifier(n_neighbors=k, n_jobs=-1)\n",
    "        knn.fit(x_train, y_train)\n",
    "        errors.append(abs(y_test - knn.predict(x_test)).sum())\n",
    "    return errors"
   ]
  },
  {
   "cell_type": "markdown",
   "metadata": {},
   "source": [
    "### Melhor K para a estratégia de substituir missing values pela média"
   ]
  },
  {
   "cell_type": "code",
   "execution_count": 5,
   "metadata": {},
   "outputs": [
    {
     "ename": "NameError",
     "evalue": "name 'erros' is not defined",
     "output_type": "error",
     "traceback": [
      "\u001b[1;31m---------------------------------------------------------------------------\u001b[0m",
      "\u001b[1;31mNameError\u001b[0m                                 Traceback (most recent call last)",
      "\u001b[1;32m<ipython-input-5-db561a27e2a6>\u001b[0m in \u001b[0;36m<module>\u001b[1;34m()\u001b[0m\n\u001b[0;32m      1\u001b[0m \u001b[0merrors\u001b[0m \u001b[1;33m=\u001b[0m \u001b[0mmakeErrosKnn\u001b[0m\u001b[1;33m(\u001b[0m\u001b[0mtraining_mean\u001b[0m\u001b[1;33m,\u001b[0m \u001b[0mtesting_mean\u001b[0m\u001b[1;33m,\u001b[0m \u001b[1;36m203\u001b[0m\u001b[1;33m)\u001b[0m\u001b[1;33m\u001b[0m\u001b[0m\n\u001b[1;32m----> 2\u001b[1;33m \u001b[0mplt\u001b[0m\u001b[1;33m.\u001b[0m\u001b[0mplot\u001b[0m\u001b[1;33m(\u001b[0m\u001b[0mlist\u001b[0m\u001b[1;33m(\u001b[0m\u001b[0mrange\u001b[0m\u001b[1;33m(\u001b[0m\u001b[1;36m1\u001b[0m\u001b[1;33m,\u001b[0m \u001b[1;36m203\u001b[0m\u001b[1;33m,\u001b[0m \u001b[1;36m2\u001b[0m\u001b[1;33m)\u001b[0m\u001b[1;33m)\u001b[0m\u001b[1;33m,\u001b[0m \u001b[0merros\u001b[0m\u001b[1;33m,\u001b[0m \u001b[0mmarker\u001b[0m\u001b[1;33m=\u001b[0m\u001b[1;34m'+'\u001b[0m\u001b[1;33m)\u001b[0m\u001b[1;33m\u001b[0m\u001b[0m\n\u001b[0m\u001b[0;32m      3\u001b[0m \u001b[0mplt\u001b[0m\u001b[1;33m.\u001b[0m\u001b[0mshow\u001b[0m\u001b[1;33m(\u001b[0m\u001b[1;33m)\u001b[0m\u001b[1;33m\u001b[0m\u001b[0m\n\u001b[0;32m      4\u001b[0m \u001b[0mprint\u001b[0m\u001b[1;33m(\u001b[0m\u001b[0mmin\u001b[0m\u001b[1;33m(\u001b[0m\u001b[0merrors\u001b[0m\u001b[1;33m)\u001b[0m\u001b[1;33m)\u001b[0m\u001b[1;33m\u001b[0m\u001b[0m\n",
      "\u001b[1;31mNameError\u001b[0m: name 'erros' is not defined"
     ]
    }
   ],
   "source": [
    "errors = makeErrosKnn(training_mean, testing_mean, 203)\n",
    "plt.plot(list(range(1, 203, 2)), erros, marker='+')\n",
    "plt.show()\n",
    "print(min(errors))"
   ]
  },
  {
   "cell_type": "markdown",
   "metadata": {},
   "source": [
    "### Melhor K para a estratégia de substituir missing values pela moda"
   ]
  },
  {
   "cell_type": "code",
   "execution_count": null,
   "metadata": {},
   "outputs": [],
   "source": [
    "errors = makeErrosKnn(training_mode, testing_mode, 203)\n",
    "plt.plot(list(range(1, 203, 2)), errors, marker='+')\n",
    "plt.show()\n",
    "print(min(errors))"
   ]
  },
  {
   "cell_type": "markdown",
   "metadata": {},
   "source": [
    "### Melhor K para a estratégia de substituir missing values pela mediana"
   ]
  },
  {
   "cell_type": "code",
   "execution_count": null,
   "metadata": {},
   "outputs": [],
   "source": [
    "errors = makeErrosKnn(training_median, testing_median, 203)\n",
    "plt.plot(list(range(1, 203, 2)), errors, marker='+')\n",
    "plt.show()\n",
    "print(min(errors))"
   ]
  },
  {
   "cell_type": "markdown",
   "metadata": {},
   "source": [
    "Verificamos nesta etapa que a melhor combinação de estratégia para a classificação com KNN é utilizar a substituição dos _missing values_ pela média e K = 5."
   ]
  },
  {
   "cell_type": "markdown",
   "metadata": {},
   "source": [
    "## Escolher a melhor quantidade de estimadores para o RF e a melhor estratégia para tratamento de missing values"
   ]
  },
  {
   "cell_type": "markdown",
   "metadata": {},
   "source": [
    "## Testando o classificador\n",
    " \n",
    "Variando a quantidade de estimadores entre 1 e 201, passo 2, e entre 1 e 2000, passo 50."
   ]
  },
  {
   "cell_type": "code",
   "execution_count": null,
   "metadata": {
    "collapsed": true
   },
   "outputs": [],
   "source": [
    "def errorRandomForest(df_train, df_test, length, step):\n",
    "    x_train, y_train = splitData(df_train)\n",
    "    x_test, y_test = splitData(df_test)\n",
    "    estimators = list(range(1, length, step))\n",
    "    errors = []\n",
    "    for e in estimators:\n",
    "        rf = RandomForestClassifier(n_estimators=e, max_depth=None, min_samples_split=2, random_state=0, n_jobs=-1)\n",
    "        rf.fit(x_train, y_train)\n",
    "        errors.append(abs(y_test - rf.predict(x_test)).sum())\n",
    "    return errors"
   ]
  },
  {
   "cell_type": "code",
   "execution_count": null,
   "metadata": {},
   "outputs": [],
   "source": [
    "errors = errorRandomForest(training_mean, testing_mean, 203, 2)\n",
    "plt.plot(list(range(1, 203, 2)), errors, marker='+')\n",
    "plt.show()\n",
    "print(min(errors))"
   ]
  },
  {
   "cell_type": "code",
   "execution_count": null,
   "metadata": {
    "collapsed": true
   },
   "outputs": [],
   "source": [
    "errors = errorRandomForest(training_mean, testing_mean, 2003, 50)\n",
    "plt.plot(list(range(1, 2003, 50)), errors, marker='+')\n",
    "plt.show()\n",
    "print(min(errors))"
   ]
  },
  {
   "cell_type": "code",
   "execution_count": null,
   "metadata": {},
   "outputs": [],
   "source": [
    "errors = errorRandomForest(training_mode, testing_mode, 203, 2)\n",
    "plt.plot(list(range(1, 203, 2)), errors, marker='+')\n",
    "plt.show()\n",
    "print(min(errors))"
   ]
  },
  {
   "cell_type": "code",
   "execution_count": null,
   "metadata": {
    "collapsed": true
   },
   "outputs": [],
   "source": [
    "errors = errorRandomForest(training_mode, testing_mode, 2003, 50)\n",
    "plt.plot(list(range(1, 203, 2)), errors, marker='+')\n",
    "plt.show()\n",
    "print(min(errors))"
   ]
  },
  {
   "cell_type": "code",
   "execution_count": null,
   "metadata": {},
   "outputs": [],
   "source": [
    "errors = errorRandomForest(training_median, testing_median, 203)\n",
    "plt.plot(list(range(1, 203, 2)), errors, marker='+')\n",
    "plt.show()\n",
    "print(min(errors))"
   ]
  },
  {
   "cell_type": "code",
   "execution_count": null,
   "metadata": {
    "collapsed": true
   },
   "outputs": [],
   "source": [
    "errors = errorRandomForest(training_median, testing_median, 2003, 50)\n",
    "plt.plot(list(range(1, 2003, 50)), errors, marker='+')\n",
    "plt.show()\n",
    "print(min(errors))"
   ]
  },
  {
   "cell_type": "markdown",
   "metadata": {
    "collapsed": true
   },
   "source": [
    "## Testando o classificador Arvore de Decisão"
   ]
  },
  {
   "cell_type": "code",
   "execution_count": null,
   "metadata": {
    "collapsed": true
   },
   "outputs": [],
   "source": [
    "tree = DecisionTreeClassifier(criterion='entropy',max_depth=None, min_samples_split=2,random_state=0)"
   ]
  },
  {
   "cell_type": "markdown",
   "metadata": {},
   "source": [
    "### Realiza classificação com a arvore de decisão"
   ]
  },
  {
   "cell_type": "code",
   "execution_count": null,
   "metadata": {
    "collapsed": true
   },
   "outputs": [],
   "source": [
    "def errorDecisionTree(df_train, df_test):\n",
    "    x_train, y_train = splitData(df_train)\n",
    "    x_test, y_test = splitData(df_test)\n",
    "    tree.fit(x_train,y_train)\n",
    "    error = abs(y_test - tree.predict(x_test)).sum()\n",
    "    return error"
   ]
  },
  {
   "cell_type": "markdown",
   "metadata": {},
   "source": [
    "### Erro calulado com a estratégia de substituir missing values pela média"
   ]
  },
  {
   "cell_type": "code",
   "execution_count": null,
   "metadata": {},
   "outputs": [],
   "source": [
    "errorDecisionTree(training_mean, testing_mean)"
   ]
  },
  {
   "cell_type": "markdown",
   "metadata": {},
   "source": [
    "### Erro calulado com a estratégia de substituir missing values pela moda"
   ]
  },
  {
   "cell_type": "code",
   "execution_count": null,
   "metadata": {},
   "outputs": [],
   "source": [
    "errorDecisionTree(training_mode, testing_mode)"
   ]
  },
  {
   "cell_type": "markdown",
   "metadata": {},
   "source": [
    "### Erro calulado com a estratégia de substituir missing values pela mediana"
   ]
  },
  {
   "cell_type": "code",
   "execution_count": null,
   "metadata": {},
   "outputs": [],
   "source": [
    "errorDecisionTree(training_median, testing_median)"
   ]
  }
 ],
 "metadata": {
  "kernelspec": {
   "display_name": "Python 3",
   "language": "python",
   "name": "python3"
  },
  "language_info": {
   "codemirror_mode": {
    "name": "ipython",
    "version": 3
   },
   "file_extension": ".py",
   "mimetype": "text/x-python",
   "name": "python",
   "nbconvert_exporter": "python",
   "pygments_lexer": "ipython3",
   "version": "3.6.3"
  }
 },
 "nbformat": 4,
 "nbformat_minor": 2
}
