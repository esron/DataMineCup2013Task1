{
 "cells": [
  {
   "cell_type": "markdown",
   "metadata": {
    "collapsed": true
   },
   "source": [
    "# Selecionar a melhor estratégia para classificação com Random Forest\n",
    "\n",
    "Neste notebook exploraremos os métodos para conseguir a melhor configuração da quantidade de árvores do algoritmo _Random Forest_ e a melhor estratégia pra eliminação dos _mising values_.\n",
    " \n",
    "Variamos os valores _e_ (quantidade de etimadores) entre valores ímpares e utilizamos a acurácia como métrica para selecionar a melhor estratégia."
   ]
  },
  {
   "cell_type": "markdown",
   "metadata": {},
   "source": [
    "### importar as bibliotecas necessárias"
   ]
  },
  {
   "cell_type": "code",
   "execution_count": 1,
   "metadata": {
    "collapsed": true
   },
   "outputs": [],
   "source": [
    "import pandas as pd\n",
    "import matplotlib.pyplot as plt\n",
    "from sklearn.ensemble import RandomForestClassifier"
   ]
  },
  {
   "cell_type": "markdown",
   "metadata": {},
   "source": [
    "### Carregar as bases de dados"
   ]
  },
  {
   "cell_type": "code",
   "execution_count": 2,
   "metadata": {
    "collapsed": true
   },
   "outputs": [],
   "source": [
    "# Dados de treinameto\n",
    "# Missing values substituídos pela média, moda e mediana, respectiviamente\n",
    "training_mean = pd.read_csv(\"data/training_mean.csv\").set_index('sessionNo')\n",
    "training_mode = pd.read_csv(\"data/training_mode.csv\").set_index('sessionNo')\n",
    "training_median = pd.read_csv(\"data/training_median.csv\").set_index('sessionNo')\n",
    "\n",
    "# Dados de teste\n",
    "# Missing values substituídos pela média, moda e mediana, respectiviamente\n",
    "testing_mean = pd.read_csv(\"data/testing_mean.csv\").set_index('sessionNo')\n",
    "testing_mode = pd.read_csv(\"data/testing_mode.csv\").set_index('sessionNo')\n",
    "testing_median = pd.read_csv(\"data/testing_median.csv\").set_index('sessionNo')"
   ]
  },
  {
   "cell_type": "markdown",
   "metadata": {},
   "source": [
    "## Funções auxiliares"
   ]
  },
  {
   "cell_type": "markdown",
   "metadata": {},
   "source": [
    "### Separar um dataframe em um vetor de características e  um vetor de classe"
   ]
  },
  {
   "cell_type": "code",
   "execution_count": 3,
   "metadata": {
    "collapsed": true
   },
   "outputs": [],
   "source": [
    "def splitData(df):\n",
    "    x = df.iloc[:, :-1]\n",
    "    y = df['order']\n",
    "    return x, y"
   ]
  },
  {
   "cell_type": "markdown",
   "metadata": {},
   "source": [
    "### Calcular um vetor de acurácias para cada valor de e\n",
    "\n",
    "Dado um vetor de valores de teste, treina um estimador e calcula a acurácia, retorna um vetor de acurácias, a maior acurácia e o valor _e_ que resultou nessa acurácia."
   ]
  },
  {
   "cell_type": "code",
   "execution_count": 4,
   "metadata": {
    "collapsed": true
   },
   "outputs": [],
   "source": [
    "def makeAccsRf(df_train, df_test, test_values):\n",
    "    x_train, y_train = splitData(df_train)\n",
    "    x_test, y_test = splitData(df_test)\n",
    "    accs = []\n",
    "    best_e = 1\n",
    "    maxi = 0.\n",
    "    for e in test_values:\n",
    "        rf = RandomForestClassifier(n_estimators=e, criterion=\"entropy\", random_state=0, n_jobs=-1)\n",
    "        rf.fit(x_train, y_train)\n",
    "        acc = rf.score(x_test, y_test)\n",
    "        if(acc > maxi):\n",
    "            maxi = acc\n",
    "            best_e = e\n",
    "        accs.append(acc)\n",
    "    return accs, maxi, best_e"
   ]
  },
  {
   "cell_type": "markdown",
   "metadata": {},
   "source": [
    "### Apresenta um gráfico com os valores de _e_ e a acurácia obitida pelo modelo\n",
    "\n",
    "Importante ressaltar que os valores testados devem ser ímpares"
   ]
  },
  {
   "cell_type": "code",
   "execution_count": 5,
   "metadata": {
    "collapsed": true
   },
   "outputs": [],
   "source": [
    "def plotAcc(df_train, df_test, test_values):\n",
    "    accs, maxi, best_e = makeAccsRf(df_train, df_test, test_values)\n",
    "    plt.plot(test_values, accs, marker='o')\n",
    "    plt.xlabel('Quantidade de Estimadores')\n",
    "    plt.ylabel('Acurácia')\n",
    "    plt.title('Acurácias por Quantidade de Estimadores')\n",
    "    plt.show()\n",
    "    print('Maior acurácia: '+ str(maxi))\n",
    "    print('Melhor e: '+ str(best_e))"
   ]
  },
  {
   "cell_type": "markdown",
   "metadata": {},
   "source": [
    "## Execuçao dos experimentos"
   ]
  },
  {
   "cell_type": "markdown",
   "metadata": {},
   "source": [
    "### Missing values substituídos pela média"
   ]
  },
  {
   "cell_type": "code",
   "execution_count": null,
   "metadata": {},
   "outputs": [
    {
     "data": {
      "image/png": "[encoded data removed]",
      "text/plain": [
       "<matplotlib.figure.Figure at 0x2c5d871e198>"
      ]
     },
     "metadata": {},
     "output_type": "display_data"
    },
    {
     "name": "stdout",
     "output_type": "stream",
     "text": [
      "Maior acurácia: 0.940324789669\n",
      "Melhor e: 101\n"
     ]
    }
   ],
   "source": [
    "# Testar os valores ímpares entre 0 e 203\n",
    "plotAcc(training_mean, testing_mean, list(range(1, 203, 2)))"
   ]
  },
  {
   "cell_type": "code",
   "execution_count": null,
   "metadata": {
    "collapsed": true
   },
   "outputs": [],
   "source": [
    "# Testar os valores ímpares entre 0 e 2003\n",
    "plotAcc(training_mean, testing_mean, list(range(1, 2003, 2)))"
   ]
  },
  {
   "cell_type": "markdown",
   "metadata": {},
   "source": [
    "### Missing values substituídos pela moda"
   ]
  },
  {
   "cell_type": "code",
   "execution_count": null,
   "metadata": {
    "collapsed": true
   },
   "outputs": [],
   "source": [
    "# Testar os valores ímpares entre 0 e 203\n",
    "plotAcc(training_mode, testing_mode, list(range(1, 203, 2)))"
   ]
  },
  {
   "cell_type": "code",
   "execution_count": null,
   "metadata": {
    "collapsed": true
   },
   "outputs": [],
   "source": [
    "# Testar os valores ímpares entre 0 e 203\n",
    "plotAcc(training_mode, testing_mode, list(range(1, 2003, 2)))"
   ]
  },
  {
   "cell_type": "markdown",
   "metadata": {},
   "source": [
    "### Missing values substituídos pela mediana"
   ]
  },
  {
   "cell_type": "code",
   "execution_count": null,
   "metadata": {
    "collapsed": true
   },
   "outputs": [],
   "source": [
    "# Testar os valores ímpares entre 0 e 203\n",
    "plotAcc(training_mediana, testing_mediana, list(range(1, 203, 2)))"
   ]
  },
  {
   "cell_type": "code",
   "execution_count": null,
   "metadata": {
    "collapsed": true
   },
   "outputs": [],
   "source": [
    "# Testar os valores ímpares entre 0 e 203\n",
    "plotAcc(training_mediana, testing_mediana, list(range(1, 2003, 2)))"
   ]
  },
  {
   "cell_type": "markdown",
   "metadata": {},
   "source": [
    "## Conclusão\n",
    "\n",
    "Baseado nos valores máximos de acurácia, decidimos que a estrátégia de substituir os _missing values_ pela média e _e_ = 23 será utilizada na etapa de seleção de variáveis."
   ]
  }
 ],
 "metadata": {
  "kernelspec": {
   "display_name": "Python 3",
   "language": "python",
   "name": "python3"
  },
  "language_info": {
   "codemirror_mode": {
    "name": "ipython",
    "version": 3
   },
   "file_extension": ".py",
   "mimetype": "text/x-python",
   "name": "python",
   "nbconvert_exporter": "python",
   "pygments_lexer": "ipython3",
   "version": "3.6.3"
  }
 },
 "nbformat": 4,
 "nbformat_minor": 2
}
