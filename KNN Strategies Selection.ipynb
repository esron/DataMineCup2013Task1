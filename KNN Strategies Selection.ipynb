{
 "cells": [
  {
   "cell_type": "markdown",
   "metadata": {},
   "source": [
    "# Selecionar a melhor estratégia para classificação com KNN\n",
    "\n",
    "Neste notebook exploraremos os métodos para conseguir a melhor configuração do valor K do algoritmo KNN (_k-nearest neighbor_) e a melhor estratégia para eliminação de _missing values_.\n",
    "\n",
    "Para tal, variamos os valores de K de forma crescente utilizando cada uma das três bases de dados em que foi aplicado uma estratégia para substituição dos _missing values_.\n",
    "\n",
    "A métrica utilizada para a avaliação da melhor estratégia é a acurácia."
   ]
  },
  {
   "cell_type": "markdown",
   "metadata": {},
   "source": [
    "### importar as bibliotecas necessárias"
   ]
  },
  {
   "cell_type": "code",
   "execution_count": 1,
   "metadata": {
    "collapsed": true
   },
   "outputs": [],
   "source": [
    "import pandas as pd\n",
    "import matplotlib.pyplot as plt\n",
    "from sklearn.neighbors import KNeighborsClassifier\n",
    "from sklearn.metrics import accuracy_score"
   ]
  },
  {
   "cell_type": "markdown",
   "metadata": {},
   "source": [
    "### Carregar as bases de dados"
   ]
  },
  {
   "cell_type": "code",
   "execution_count": 2,
   "metadata": {
    "collapsed": true
   },
   "outputs": [],
   "source": [
    "# Dados de treinameto\n",
    "# Missing values substituídos pela média, moda e mediana, respectiviamente\n",
    "training_mean = pd.read_csv(\"data/training_mean.csv\").set_index('sessionNo')\n",
    "training_mode = pd.read_csv(\"data/training_mode.csv\").set_index('sessionNo')\n",
    "training_median = pd.read_csv(\"data/training_median.csv\").set_index('sessionNo')\n",
    "\n",
    "# Dados de teste\n",
    "# Missing values substituídos pela média, moda e mediana, respectiviamente\n",
    "testing_mean = pd.read_csv(\"data/testing_mean.csv\").set_index('sessionNo')\n",
    "testing_mode = pd.read_csv(\"data/testing_mode.csv\").set_index('sessionNo')\n",
    "testing_median = pd.read_csv(\"data/testing_median.csv\").set_index('sessionNo')"
   ]
  },
  {
   "cell_type": "markdown",
   "metadata": {},
   "source": [
    "## Funções auxiliares"
   ]
  },
  {
   "cell_type": "markdown",
   "metadata": {},
   "source": [
    "### Separar um dataframe em um vetor de características e  um vetor de classe"
   ]
  },
  {
   "cell_type": "code",
   "execution_count": null,
   "metadata": {
    "collapsed": true
   },
   "outputs": [],
   "source": []
  }
 ],
 "metadata": {
  "kernelspec": {
   "display_name": "Python 3",
   "language": "python",
   "name": "python3"
  },
  "language_info": {
   "codemirror_mode": {
    "name": "ipython",
    "version": 3
   },
   "file_extension": ".py",
   "mimetype": "text/x-python",
   "name": "python",
   "nbconvert_exporter": "python",
   "pygments_lexer": "ipython3",
   "version": "3.6.3"
  }
 },
 "nbformat": 4,
 "nbformat_minor": 2
}
