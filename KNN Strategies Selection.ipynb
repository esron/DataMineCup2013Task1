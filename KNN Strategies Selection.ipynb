{
 "cells": [
  {
   "cell_type": "markdown",
   "metadata": {},
   "source": [
    "# Selecionar a melhor estratégia para classificação com KNN\n",
    "\n",
    "Neste notebook exploraremos os métodos para conseguir a melhor configuração do valor K do algoritmo KNN (_k-nearest neighbor_) e a melhor estratégia para eliminação de _missing values_.\n",
    "\n",
    "Para tal, variamos os valores de K de forma crescente utilizando cada uma das três bases de dados em que foi aplicado uma estratégia para substituição dos _missing values_.\n",
    "\n",
    "A métrica utilizada para a avaliação da melhor estratégia é a acurácia."
   ]
  },
  {
   "cell_type": "markdown",
   "metadata": {},
   "source": [
    "### importar as bibliotecas necessárias"
   ]
  },
  {
   "cell_type": "code",
   "execution_count": 1,
   "metadata": {
    "collapsed": true
   },
   "outputs": [],
   "source": [
    "import pandas as pd\n",
    "import matplotlib.pyplot as plt\n",
    "from sklearn.neighbors import KNeighborsClassifier\n",
    "from sklearn.metrics import accuracy_score"
   ]
  },
  {
   "cell_type": "markdown",
   "metadata": {},
   "source": [
    "### Carregar as bases de dados"
   ]
  },
  {
   "cell_type": "code",
   "execution_count": 2,
   "metadata": {
    "collapsed": true
   },
   "outputs": [],
   "source": [
    "# Dados de treinameto\n",
    "# Missing values substituídos pela média, moda e mediana, respectiviamente\n",
    "training_mean = pd.read_csv(\"data/training_mean.csv\").set_index('sessionNo')\n",
    "training_mode = pd.read_csv(\"data/training_mode.csv\").set_index('sessionNo')\n",
    "training_median = pd.read_csv(\"data/training_median.csv\").set_index('sessionNo')\n",
    "\n",
    "# Dados de teste\n",
    "# Missing values substituídos pela média, moda e mediana, respectiviamente\n",
    "testing_mean = pd.read_csv(\"data/testing_mean.csv\").set_index('sessionNo')\n",
    "testing_mode = pd.read_csv(\"data/testing_mode.csv\").set_index('sessionNo')\n",
    "testing_median = pd.read_csv(\"data/testing_median.csv\").set_index('sessionNo')"
   ]
  },
  {
   "cell_type": "markdown",
   "metadata": {},
   "source": [
    "## Funções auxiliares"
   ]
  },
  {
   "cell_type": "markdown",
   "metadata": {},
   "source": [
    "### Separar um dataframe em um vetor de características e  um vetor de classe"
   ]
  },
  {
   "cell_type": "code",
   "execution_count": 3,
   "metadata": {
    "collapsed": true
   },
   "outputs": [],
   "source": [
    "def splitData(df):\n",
    "    x = df.iloc[:, :-1]\n",
    "    y = df['order']\n",
    "    return x, y"
   ]
  },
  {
   "cell_type": "markdown",
   "metadata": {},
   "source": [
    "### Calcular um array de acurácias para cada valor de k\n",
    "\n",
    "Essa função testa valores ímpares de K até um valor dado por _lenght_ retornando um vetor de acurácias, o menor valor e o parâmetro K que gerou esse valor."
   ]
  },
  {
   "cell_type": "code",
   "execution_count": 4,
   "metadata": {
    "collapsed": true
   },
   "outputs": [],
   "source": [
    "def makeErrosKnn(df_train, df_test, length):\n",
    "    x_train, y_train = splitData(df_train)\n",
    "    x_test, y_test = splitData(df_test)\n",
    "    errors = []\n",
    "    best_k = 1\n",
    "    minimun = 5111.\n",
    "    for k in range(1, length + 2, 2):\n",
    "        knn = KNeighborsClassifier(n_neighbors=k, n_jobs=-1)\n",
    "        knn.fit(x_train, y_train)\n",
    "        erro = knn.score(x_test, y_test)\n",
    "        if(erro < minimun):\n",
    "            minimun = erro\n",
    "            best_k = k\n",
    "        errors.append(erro)\n",
    "    return errors, minimun, best_k"
   ]
  },
  {
   "cell_type": "markdown",
   "metadata": {},
   "source": [
    "## Execuções dos experimentos"
   ]
  },
  {
   "cell_type": "markdown",
   "metadata": {},
   "source": [
    "### Missing values substituídos pela média"
   ]
  },
  {
   "cell_type": "code",
   "execution_count": null,
   "metadata": {
    "collapsed": true
   },
   "outputs": [],
   "source": [
    "errors, minimun, best_k = makeErrosKnn(df_train, df_test, length)\n",
    "plt.plot(list(range(1, len(errors), 2)), errors, marker='o')\n",
    "plt.xlabel('K')\n",
    "plt.ylabel('Acurácia')\n",
    "plt.title('Acurácias por valores de K')\n",
    "plt.show()\n",
    "print('Menor erro: '+ str(minimun) +'; Melhor k: '+ str(best_k))"
   ]
  }
 ],
 "metadata": {
  "kernelspec": {
   "display_name": "Python 3",
   "language": "python",
   "name": "python3"
  },
  "language_info": {
   "codemirror_mode": {
    "name": "ipython",
    "version": 3
   },
   "file_extension": ".py",
   "mimetype": "text/x-python",
   "name": "python",
   "nbconvert_exporter": "python",
   "pygments_lexer": "ipython3",
   "version": "3.6.3"
  }
 },
 "nbformat": 4,
 "nbformat_minor": 2
}
