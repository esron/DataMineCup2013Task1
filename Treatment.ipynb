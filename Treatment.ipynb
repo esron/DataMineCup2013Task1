{
 "cells": [
  {
   "cell_type": "markdown",
   "metadata": {},
   "source": [
    "# Tratamento dos arquivos de treinamento e teste"
   ]
  },
  {
   "cell_type": "markdown",
   "metadata": {},
   "source": [
    "Nesse notebook trataremos os arquivos `trasact_train.csv`, `transact_class.csv` e `realclass_t1.csv`.\n",
    "\n",
    "O objetivo é preparar os dados na forma de CSV para utiliza-los na fase seguinte, escolha de paramêtros dos algoritmo de classificação.\n",
    "\n",
    "Ao final do processo serão gerados 3 pares de arquivos, cada par referente a uma estratégia para tratamento de missing values."
   ]
  },
  {
   "cell_type": "markdown",
   "metadata": {},
   "source": [
    "### Importar as bibliotecas necessárias"
   ]
  },
  {
   "cell_type": "code",
   "execution_count": 2,
   "metadata": {
    "collapsed": true
   },
   "outputs": [],
   "source": [
    "import pandas as pd\n",
    "import numpy as np"
   ]
  },
  {
   "cell_type": "markdown",
   "metadata": {},
   "source": [
    "### Ler os arquivos csv"
   ]
  },
  {
   "cell_type": "code",
   "execution_count": 42,
   "metadata": {},
   "outputs": [],
   "source": [
    "transact_train = pd.read_csv('data/transact_train.csv', sep='|', na_values='?')\n",
    "transact_class = pd.read_csv('data/transact_class.csv', sep='|', na_values='?')\n",
    "realclass_t1 = pd.read_csv('data/realclass_t1.csv', sep='|', na_values='?')\n",
    "\n",
    "# Remover os dados de ID do usuário\n",
    "transact_train.drop('customerNo', axis=1, inplace=True)\n",
    "transact_class.drop('customerNo', axis=1, inplace=True)"
   ]
  },
  {
   "cell_type": "markdown",
   "metadata": {},
   "source": [
    "### Diminuir a granularidade dos dados"
   ]
  },
  {
   "cell_type": "code",
   "execution_count": 44,
   "metadata": {},
   "outputs": [],
   "source": [
    "def reduceGranularity(data):\n",
    "    ant = data['sessionNo'][0]\n",
    "    indexes = []\n",
    "    reduced_data = pd.DataFrame()\n",
    "    for index, row in data.iterrows():\n",
    "        if row['sessionNo'] != ant:\n",
    "            indexes.append(index)      \n",
    "        ant = row['sessionNo']\n",
    "    for index in range(0, len(indexes)):\n",
    "        indexes[index] -= 1\n",
    "    indexes.append(len(data) - 1)\n",
    "    reduced_data = data.iloc[indexes].set_index('sessionNo')\n",
    "    return reduced_data\n"
   ]
  },
  {
   "cell_type": "code",
   "execution_count": 48,
   "metadata": {},
   "outputs": [],
   "source": [
    "training = reduceGranularity(transact_train)\n",
    "testing = reduceGranularity(transact_class)"
   ]
  },
  {
   "cell_type": "markdown",
   "metadata": {},
   "source": [
    "### Substituir missing values"
   ]
  },
  {
   "cell_type": "code",
   "execution_count": 69,
   "metadata": {
    "collapsed": true
   },
   "outputs": [],
   "source": [
    "# Substitui valores pela moda\n",
    "def fillNaByMode(data):\n",
    "    new_data = data.copy()\n",
    "    for col in new_data:\n",
    "        new_data[col].fillna(value=new_data[col].mode().iloc[0], inplace=True)\n",
    "    return new_data\n",
    " \n",
    "# Substitui valores inteiros pela média e valores nominais pela moda\n",
    "def fillNaByMean(data):\n",
    "    new_data = data.copy()\n",
    "    for col in new_data:\n",
    "        if data[col].dtype == 'object':\n",
    "            new_data[col].fillna(value=new_data[col].mode().iloc[0], inplace=True)\n",
    "        else:\n",
    "            new_data[col].fillna(value=new_data[col].mean(), inplace=True)\n",
    "    return new_data"
   ]
  },
  {
   "cell_type": "code",
   "execution_count": 73,
   "metadata": {},
   "outputs": [],
   "source": [
    "training_mean = fillNaByMean(training)\n",
    "training_mode = fillNaByMode(training)\n",
    "training_no_na = training.dropna()"
   ]
  },
  {
   "cell_type": "markdown",
   "metadata": {
    "collapsed": true
   },
   "source": [
    "### Salvar os dados em arquivos CSV"
   ]
  },
  {
   "cell_type": "code",
   "execution_count": 76,
   "metadata": {
    "collapsed": true
   },
   "outputs": [],
   "source": [
    "training_mean.to_csv('data/training_mean.csv')"
   ]
  }
 ],
 "metadata": {
  "kernelspec": {
   "display_name": "Python 3",
   "language": "python",
   "name": "python3"
  },
  "language_info": {
   "codemirror_mode": {
    "name": "ipython",
    "version": 3
   },
   "file_extension": ".py",
   "mimetype": "text/x-python",
   "name": "python",
   "nbconvert_exporter": "python",
   "pygments_lexer": "ipython3",
   "version": "3.6.3"
  }
 },
 "nbformat": 4,
 "nbformat_minor": 2
}
