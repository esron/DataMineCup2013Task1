{
 "cells": [
  {
   "cell_type": "markdown",
   "metadata": {},
   "source": [
    "# Tratamento dos arquivos de treinamento e teste"
   ]
  },
  {
   "cell_type": "markdown",
   "metadata": {},
   "source": [
    "Nesse notebook trataremos os arquivos `trasact_train.csv`, `transact_class.csv` e `realclass_t1.csv`.\n",
    "\n",
    "O objetivo é preparar os dados na forma de CSV para utiliza-los na fase seguinte, escolha de paramêtros dos algoritmo de classificação.\n",
    "\n",
    "Ao final do processo serão gerados 3 pares de arquivos, cada par referente a uma estratégia para tratamento de missing values."
   ]
  },
  {
   "cell_type": "markdown",
   "metadata": {},
   "source": [
    "### Importar as bibliotecas necessárias"
   ]
  },
  {
   "cell_type": "code",
   "execution_count": 1,
   "metadata": {
    "collapsed": true
   },
   "outputs": [],
   "source": [
    "import pandas as pd\n",
    "import numpy as np"
   ]
  },
  {
   "cell_type": "markdown",
   "metadata": {},
   "source": [
    "### Ler os arquivos csv"
   ]
  },
  {
   "cell_type": "code",
   "execution_count": 2,
   "metadata": {
    "collapsed": true
   },
   "outputs": [],
   "source": [
    "transact_train = pd.read_csv('data/transact_train.csv', sep='|', na_values='?')\n",
    "transact_class = pd.read_csv('data/transact_class.csv', sep='|', na_values='?')\n",
    "realclass_t1 = pd.read_csv('data/realclass_t1.csv', sep='|', na_values='?')\n",
    "\n",
    "# Remover os dados de ID do usuário\n",
    "transact_train.drop('customerNo', axis=1, inplace=True)\n",
    "transact_class.drop('customerNo', axis=1, inplace=True)"
   ]
  },
  {
   "cell_type": "markdown",
   "metadata": {},
   "source": [
    "### Diminuir a granularidade dos dados"
   ]
  },
  {
   "cell_type": "code",
   "execution_count": 3,
   "metadata": {
    "collapsed": true
   },
   "outputs": [],
   "source": [
    "def reduceGranularity(data):\n",
    "    ant = data['sessionNo'][0]\n",
    "    indexes = []\n",
    "    reduced_data = pd.DataFrame()\n",
    "    for index, row in data.iterrows():\n",
    "        if row['sessionNo'] != ant:\n",
    "            indexes.append(index)\n",
    "        ant = row['sessionNo']\n",
    "    for index in range(0, len(indexes)):\n",
    "        indexes[index] -= 1\n",
    "    indexes.append(len(data) - 1)\n",
    "    reduced_data = data.iloc[indexes].set_index('sessionNo')\n",
    "    return reduced_data"
   ]
  },
  {
   "cell_type": "code",
   "execution_count": 4,
   "metadata": {
    "collapsed": true
   },
   "outputs": [],
   "source": [
    "training = reduceGranularity(transact_train)\n",
    "testing = reduceGranularity(transact_class)"
   ]
  },
  {
   "cell_type": "markdown",
   "metadata": {},
   "source": [
    "### Juntar `realclass_t1` com `testing`"
   ]
  },
  {
   "cell_type": "code",
   "execution_count": 5,
   "metadata": {
    "collapsed": true
   },
   "outputs": [],
   "source": [
    "testing = testing.join(realclass_t1.set_index('sessionNo')).rename(columns={'prediction': 'order'})"
   ]
  },
  {
   "cell_type": "markdown",
   "metadata": {},
   "source": [
    "### Substituír valores nominais por valores numéricos"
   ]
  },
  {
   "cell_type": "code",
   "execution_count": 6,
   "metadata": {
    "collapsed": true
   },
   "outputs": [],
   "source": [
    "# Mapeando os valores nominais\n",
    "def mappingValues(df):\n",
    "    if(df['order'].dtype == 'int64'):\n",
    "        pass\n",
    "    else:\n",
    "        df['order'] = df['order'].map({'y': 1, 'n': 0})\n",
    "    df['onlineStatus'] = df['onlineStatus'].map({'y': 1, 'n': 0})\n",
    "    df['availability'] = df['availability'].map({\n",
    "        'completely orderable': 1, 'completely not orderable': 2,'mainly orderable': 3,\n",
    "        'mixed': 4,'completely not determinable': 5, 'mainly not orderable': 6, 'mainly not determinable': 7\n",
    "    })\n",
    "    \n",
    "mappingValues(training)\n",
    "mappingValues(testing)"
   ]
  },
  {
   "cell_type": "markdown",
   "metadata": {},
   "source": [
    "### Substituir missing values"
   ]
  },
  {
   "cell_type": "code",
   "execution_count": 7,
   "metadata": {
    "collapsed": true
   },
   "outputs": [],
   "source": [
    "# Substitui valores pela moda\n",
    "def fillNaByMode(data):\n",
    "    new_data = data.copy()\n",
    "    for col in new_data:\n",
    "        new_data[col].fillna(value=new_data[col].mode().iloc[0], inplace=True)\n",
    "    return new_data\n",
    " \n",
    "# Substitui valores inteiros pela média e valores nominais pela moda\n",
    "def fillNaByMean(data):\n",
    "    new_data = data.copy()\n",
    "    for col in new_data:\n",
    "        new_data[col].fillna(value=new_data[col].mean(), inplace=True)\n",
    "    return new_data"
   ]
  },
  {
   "cell_type": "code",
   "execution_count": 8,
   "metadata": {
    "collapsed": true
   },
   "outputs": [],
   "source": [
    "# Treinamento\n",
    "training_mean = fillNaByMean(training)\n",
    "training_mode = fillNaByMode(training)\n",
    "training_no_na = training.dropna()\n",
    "\n",
    "# Teste\n",
    "testing_mean = fillNaByMean(testing)\n",
    "testing_mode = fillNaByMode(testing)\n",
    "testing_no_na = testing.dropna()"
   ]
  },
  {
   "cell_type": "markdown",
   "metadata": {},
   "source": [
    "### Normalizar os dados utilizando teorema de Tales"
   ]
  },
  {
   "cell_type": "code",
   "execution_count": 9,
   "metadata": {},
   "outputs": [],
   "source": [
    "def normalize(df):\n",
    "    return (df - df.min())/(df.max() - df.min())\n",
    "\n",
    "training_mean = normalize(training_mean)\n",
    "training_mode = normalize(training_mode)\n",
    "training_no_na = normalize(training_no_na)\n",
    "\n",
    "testing_mean = normalize(training_mean)\n",
    "testing_mode = normalize(training_mode)\n",
    "testing_no_na = normalize(training_no_na)"
   ]
  },
  {
   "cell_type": "markdown",
   "metadata": {
    "collapsed": true
   },
   "source": [
    "### Salvar os dados em arquivos CSV"
   ]
  },
  {
   "cell_type": "code",
   "execution_count": 10,
   "metadata": {},
   "outputs": [],
   "source": [
    "# Treinamento\n",
    "training_mean.to_csv('data/training_mean.csv')\n",
    "training_mode.to_csv('data/training_mode.csv')\n",
    "training_no_na.to_csv('data/training_no_na.csv')\n",
    "\n",
    "# Teste\n",
    "testing_mean.to_csv('data/testing_mean.csv')\n",
    "testing_mode.to_csv('data/testing_mode.csv')\n",
    "testing_no_na.to_csv('data/testing_no_na.csv')"
   ]
  }
 ],
 "metadata": {
  "kernelspec": {
   "display_name": "Python 3",
   "language": "python",
   "name": "python3"
  },
  "language_info": {
   "codemirror_mode": {
    "name": "ipython",
    "version": 3
   },
   "file_extension": ".py",
   "mimetype": "text/x-python",
   "name": "python",
   "nbconvert_exporter": "python",
   "pygments_lexer": "ipython3",
   "version": "3.6.3"
  }
 },
 "nbformat": 4,
 "nbformat_minor": 2
}
