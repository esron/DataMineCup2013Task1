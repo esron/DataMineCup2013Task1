{
 "cells": [
  {
   "cell_type": "markdown",
   "metadata": {},
   "source": [
    "# Tratamento dos arquivos de treinamento e teste"
   ]
  },
  {
   "cell_type": "markdown",
   "metadata": {},
   "source": [
    "Nesse notebook trataremos os arquivos `trasact_train.csv`, `transact_class.csv` e `realclass_t1.csv`.\n",
    "\n",
    "O objetivo é preparar os dados na forma de CSV para utiliza-los na fase seguinte, escolha de paramêtros dos algoritmo de classificação.\n",
    "\n",
    "Ao final do processo serão gerados 3 pares de arquivos, cada par referente a uma estratégia para tratamento de missing values."
   ]
  },
  {
   "cell_type": "markdown",
   "metadata": {},
   "source": [
    "### Importar as bibliotecas necessárias"
   ]
  },
  {
   "cell_type": "code",
   "execution_count": 1,
   "metadata": {},
   "outputs": [],
   "source": [
    "import pandas as pd\n",
    "import numpy as np"
   ]
  },
  {
   "cell_type": "markdown",
   "metadata": {},
   "source": [
    "### Ler os arquivos csv"
   ]
  },
  {
   "cell_type": "code",
   "execution_count": null,
   "metadata": {},
   "outputs": [],
   "source": [
    "transact_train = pd.read_csv('transact_train.csv', sep=\"|\", na_values='?')\n",
    "\n",
    "transact_train.head()"
   ]
  },
  {
   "cell_type": "code",
   "execution_count": null,
   "metadata": {
    "collapsed": true
   },
   "outputs": [],
   "source": [
    "ant = data['sessionNo'][0]\n",
    "indexes = []\n",
    "training_data = pd.DataFrame()\n",
    "for index, row in data.iterrows():\n",
    "    if row['sessionNo'] != ant:\n",
    "        indexes.append(index)      \n",
    "    ant = row['sessionNo']\n",
    "for index in range(0, len(indexes)):\n",
    "    indexes[index] -= 1\n",
    "indexes.append(len(data) - 1)"
   ]
  },
  {
   "cell_type": "code",
   "execution_count": null,
   "metadata": {},
   "outputs": [],
   "source": [
    "training_data = data.iloc[indexes].set_index('sessionNo')\n",
    "training_data.head()"
   ]
  },
  {
   "cell_type": "code",
   "execution_count": null,
   "metadata": {},
   "outputs": [],
   "source": [
    "for col in training_data:\n",
    "    if training_data[col].dtype == 'object':\n",
    "        training_data[col].fillna(value=training_data[col].mode().iloc[0], inplace=True)\n",
    "        print(\"Object\", col)\n",
    "    else:\n",
    "        training_data[col].fillna(value=training_data[col].mean(), inplace=True)\n",
    "training_data"
   ]
  },
  {
   "cell_type": "code",
   "execution_count": null,
   "metadata": {
    "collapsed": true
   },
   "outputs": [],
   "source": [
    "training_data.to_csv('training_data_mean.csv')"
   ]
  },
  {
   "cell_type": "code",
   "execution_count": null,
   "metadata": {
    "collapsed": true
   },
   "outputs": [],
   "source": []
  }
 ],
 "metadata": {
  "kernelspec": {
   "display_name": "Python 3",
   "language": "python",
   "name": "python3"
  },
  "language_info": {
   "codemirror_mode": {
    "name": "ipython",
    "version": 3
   },
   "file_extension": ".py",
   "mimetype": "text/x-python",
   "name": "python",
   "nbconvert_exporter": "python",
   "pygments_lexer": "ipython3",
   "version": "3.6.3"
  }
 },
 "nbformat": 4,
 "nbformat_minor": 2
}
