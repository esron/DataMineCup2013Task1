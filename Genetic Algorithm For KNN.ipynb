{
 "cells": [
  {
   "cell_type": "markdown",
   "metadata": {},
   "source": [
    "# Selecionar variáveis para o KNN utilizando o Algoritmo Genético\n",
    "\n",
    "Neste notebook exploramos os métodos de selelçao de variáveis utilizando uma busca genética.\n",
    "\n",
    "Até agora utilizamos apenas os algoritmos e funções do [Scikitlearn](http://scikit-learn.org/), porém não existe otimização de variáveis utilizando busca genética por padrão no SkLearn. Então, recorremos à uma inteface entre o [DEAP](http://deap.readthedocs.io/en/master/) (Distributed Evolutionary Algorithms in Python) e SkLearn escrita por [Manuel Calzolari](https://github.com/manuel-calzolari/sklearn-genetic).\n",
    "\n",
    "Para utilizar o DEAP com Anaconda antes é recomen instalar o pacote com o seguinte comando:\n",
    "\n",
    "`conda install -c conda-forge deap`"
   ]
  },
  {
   "cell_type": "markdown",
   "metadata": {},
   "source": [
    "### Carregar as bibliotécas necessárias"
   ]
  },
  {
   "cell_type": "code",
   "execution_count": 1,
   "metadata": {
    "collapsed": true
   },
   "outputs": [],
   "source": [
    "import pandas as pd\n",
    "import numpy as np\n",
    "import matplotlib.pyplot as plt\n",
    "from sklearn.neighbors import KNeighborsClassifier\n",
    "from genetic_selection import GeneticSelectionCV # https://github.com/manuel-calzolari/sklearn-genetic"
   ]
  },
  {
   "cell_type": "markdown",
   "metadata": {},
   "source": [
    "### Carregar as bases de dados\n",
    "\n",
    "Neste caso carregamos apenas as que obtiveram os melhores resultados na etapa de escolha de estratégias."
   ]
  },
  {
   "cell_type": "code",
   "execution_count": 2,
   "metadata": {
    "collapsed": true
   },
   "outputs": [],
   "source": [
    "training_mean = pd.read_csv(\"data/training_mean.csv\").set_index('sessionNo')\n",
    "testing_mean = pd.read_csv(\"data/testing_mean.csv\").set_index('sessionNo')"
   ]
  },
  {
   "cell_type": "markdown",
   "metadata": {},
   "source": [
    "### Estimador previamente selecionado"
   ]
  },
  {
   "cell_type": "code",
   "execution_count": 3,
   "metadata": {
    "collapsed": true
   },
   "outputs": [],
   "source": [
    "estimator = KNeighborsClassifier(n_neighbors=5, n_jobs=-1)"
   ]
  },
  {
   "cell_type": "markdown",
   "metadata": {},
   "source": [
    "## Funções auxiliares"
   ]
  },
  {
   "cell_type": "markdown",
   "metadata": {},
   "source": [
    "### Separar um dataframe em um vetor de características e  um vetor de classe"
   ]
  },
  {
   "cell_type": "code",
   "execution_count": 4,
   "metadata": {
    "collapsed": true
   },
   "outputs": [],
   "source": [
    "def splitData(df):\n",
    "    x = df.iloc[:, :-1]\n",
    "    y = df['order']\n",
    "    return x, y"
   ]
  },
  {
   "cell_type": "markdown",
   "metadata": {},
   "source": [
    "### Calcular a acurácia do modelo, dados dataframes de treinamento e teste"
   ]
  },
  {
   "cell_type": "code",
   "execution_count": 5,
   "metadata": {
    "collapsed": true
   },
   "outputs": [],
   "source": [
    "def accEstimator(estimator, df_train, df_test):\n",
    "    x_train, y_train = splitData(df_train)\n",
    "    x_test, y_test = splitData(df_test)\n",
    "    estimator.fit(x_train,y_train)\n",
    "    return estimator.score(x_test, y_test)"
   ]
  },
  {
   "cell_type": "markdown",
   "metadata": {},
   "source": [
    "### Realizar a busca genética\n",
    "\n",
    "Retorna um vetor booleando utilizado para selecionar as variáveis na avaliação da acurácia"
   ]
  },
  {
   "cell_type": "code",
   "execution_count": 6,
   "metadata": {
    "collapsed": true,
    "scrolled": true
   },
   "outputs": [],
   "source": [
    "def geneticSearch(df, estimator, population, crossover, generations, mutation):\n",
    "    X = df.iloc[:,:-1].values\n",
    "    y = df.iloc[:,-1].values\n",
    "    selector = GeneticSelectionCV(estimator,\n",
    "                                  cv=3,\n",
    "                                  verbose=0,\n",
    "                                  scoring=\"accuracy\",\n",
    "                                  n_population=population,\n",
    "                                  crossover_proba=crossover,\n",
    "                                  mutation_proba=mutation,\n",
    "                                  n_generations=generations,\n",
    "                                  crossover_independent_proba=0.5,\n",
    "                                  mutation_independent_proba=0.05,\n",
    "                                  tournament_size=3,\n",
    "                                  caching=True,\n",
    "                                  n_jobs=-1)\n",
    "    selector = selector.fit(X, y)\n",
    "    return selector"
   ]
  },
  {
   "cell_type": "markdown",
   "metadata": {},
   "source": [
    "### Montar um vetor de acurácias para as variáveis selecionadas"
   ]
  },
  {
   "cell_type": "code",
   "execution_count": null,
   "metadata": {
    "collapsed": true
   },
   "outputs": [],
   "source": [
    "def makeAccsArray(selectors):\n",
    "    accs = []\n",
    "    maxi = 0.\n",
    "    selected_variables = []\n",
    "    \n",
    "    for i in range(len(selectors)):\n",
    "            df_train = training_mean.copy()\n",
    "            df_test = testing_mean.copy()\n",
    "            \n",
    "            for j in range(len(training_mean.columns)-1):\n",
    "                if(not selectors[i][j]):\n",
    "                    del df_train[training_mean.columns[j]]\n",
    "                    del df_test[training_mean.columns[j]]\n",
    "                    \n",
    "            acc = accEstimator(estimator, df_train, df_test)\n",
    "            if acc > maxi:\n",
    "                maxi = acc\n",
    "                selected_variables = df_train.columns[:-1]\n",
    "                \n",
    "            accs.append(accEstimator(estimator, df_train, df_test))\n",
    "    return accs, maxi, selected_variables"
   ]
  },
  {
   "cell_type": "markdown",
   "metadata": {
    "collapsed": true
   },
   "source": [
    "## Experimentos"
   ]
  },
  {
   "cell_type": "markdown",
   "metadata": {},
   "source": [
    "### Variar a quantidade de gerações entre 5 e 40"
   ]
  },
  {
   "cell_type": "code",
   "execution_count": null,
   "metadata": {
    "collapsed": true
   },
   "outputs": [],
   "source": [
    "selectors = []\n",
    "for generation in range(5, 40):\n",
    "    selector = geneticSearch(training_mean,estimator, 300, 0.6, generation, 0.02)\n",
    "    selectors.append(selector.support_)\n",
    "    \n",
    "accs, maxi, selected = makeAccsArray(selectors)\n",
    "\n",
    "plt.plot(list(range(5, 7)),accs)\n",
    "plt.xlabel('Quantidade de gerações')\n",
    "plt.ylabel('Acurácia')\n",
    "plt.title('Acurácias atingida por quantidades de gerações')\n",
    "plt.show()\n",
    "print('Maior acurácia: ' + str(maxi))\n",
    "print('Variáveis selecionadas ', selected)"
   ]
  }
 ],
 "metadata": {
  "kernelspec": {
   "display_name": "Python 3",
   "language": "python",
   "name": "python3"
  },
  "language_info": {
   "codemirror_mode": {
    "name": "ipython",
    "version": 3
   },
   "file_extension": ".py",
   "mimetype": "text/x-python",
   "name": "python",
   "nbconvert_exporter": "python",
   "pygments_lexer": "ipython3",
   "version": "3.6.3"
  }
 },
 "nbformat": 4,
 "nbformat_minor": 2
}
