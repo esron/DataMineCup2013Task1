{
 "cells": [
  {
   "cell_type": "code",
   "execution_count": 1,
   "metadata": {
    "collapsed": true
   },
   "outputs": [],
   "source": [
    "import numpy as np\n",
    "from sklearn.tree import DecisionTreeClassifier\n",
    "import pandas as pd"
   ]
  },
  {
   "cell_type": "code",
   "execution_count": 2,
   "metadata": {},
   "outputs": [
    {
     "name": "stderr",
     "output_type": "stream",
     "text": [
      "C:\\ProgramData\\Anaconda3\\lib\\site-packages\\deap\\tools\\_hypervolume\\pyhv.py:33: ImportWarning: Falling back to the python version of hypervolume module. Expect this to be very slow.\n",
      "  \"module. Expect this to be very slow.\", ImportWarning)\n"
     ]
    }
   ],
   "source": [
    "from genetic_selection import GeneticSelectionCV"
   ]
  },
  {
   "cell_type": "code",
   "execution_count": 3,
   "metadata": {
    "collapsed": true
   },
   "outputs": [],
   "source": [
    "from sklearn.metrics import make_scorer, accuracy_score, fbeta_score"
   ]
  },
  {
   "cell_type": "code",
   "execution_count": 4,
   "metadata": {
    "collapsed": true
   },
   "outputs": [],
   "source": [
    "training_mean = pd.read_csv(\"data/training_mean.csv\").set_index('sessionNo')\n",
    "testing_mean = pd.read_csv(\"data/testing_mean.csv\").set_index('sessionNo')"
   ]
  },
  {
   "cell_type": "code",
   "execution_count": 5,
   "metadata": {
    "collapsed": true
   },
   "outputs": [],
   "source": [
    "def splitData(df):\n",
    "    x = df.iloc[:, :-1]\n",
    "    y = df['order']\n",
    "    return x, y"
   ]
  },
  {
   "cell_type": "code",
   "execution_count": 6,
   "metadata": {
    "collapsed": true
   },
   "outputs": [],
   "source": [
    "x_train, y_train = splitData(training_mean)\n",
    "x_test, y_test = splitData(testing_mean)"
   ]
  },
  {
   "cell_type": "code",
   "execution_count": 7,
   "metadata": {
    "collapsed": true
   },
   "outputs": [],
   "source": [
    "tree = DecisionTreeClassifier(criterion='entropy',max_depth=None, min_samples_split=2,random_state=0)"
   ]
  },
  {
   "cell_type": "code",
   "execution_count": 8,
   "metadata": {
    "collapsed": true,
    "scrolled": true
   },
   "outputs": [],
   "source": [
    "from my_score_module import custom_score\n",
    "\n",
    "my_scorer = make_scorer(custom_score, greater_is_better=False)\n",
    "\n",
    "def geneticSearch(df, estimator, population, crossover, generations, mutation):\n",
    "    X = df.iloc[:,:-1].values\n",
    "    y = df.iloc[:,-1].values\n",
    "    selector = GeneticSelectionCV(estimator,\n",
    "                                  cv=3,\n",
    "                                  verbose=0,\n",
    "                                  scoring=\"accuracy\",\n",
    "                                  n_population=population,\n",
    "                                  crossover_proba=crossover,\n",
    "                                  mutation_proba=mutation,\n",
    "                                  n_generations=generations,\n",
    "                                  crossover_independent_proba=0.5,\n",
    "                                  mutation_independent_proba=0.05,\n",
    "                                  tournament_size=3,\n",
    "                                  caching=True,\n",
    "                                  n_jobs=-1)\n",
    "    selector = selector.fit(X, y)\n",
    "    return selector\n",
    "selectors = []\n",
    "for g in range(5,500,5):\n",
    "    selector = geneticSearch(training_mean,tree,25,0.6,g,0.01)\n",
    "    selectors.append(selector.support_)"
   ]
  },
  {
   "cell_type": "code",
   "execution_count": 9,
   "metadata": {
    "collapsed": true
   },
   "outputs": [],
   "source": [
    "def errorDecisionTree(tree, df_train, df_test):\n",
    "    x_train, y_train = splitData(df_train)\n",
    "    x_test, y_test = splitData(df_test)\n",
    "    tree.fit(x_train,y_train)\n",
    "    error = abs(y_test - tree.predict(x_test)).sum()\n",
    "    return error"
   ]
  },
  {
   "cell_type": "code",
   "execution_count": 10,
   "metadata": {
    "collapsed": true
   },
   "outputs": [],
   "source": [
    "erros = []\n",
    "for i in range(len(selectors)):\n",
    "        df_train = training_mean.copy()\n",
    "        df_test = testing_mean.copy()\n",
    "        for j in range(len(training_mean.columns)-1):\n",
    "            if(not selectors[i][j]):\n",
    "                del df_train[training_mean.columns[j]]\n",
    "                del df_test[training_mean.columns[j]]\n",
    "        erros.append(errorDecisionTree(tree,df_train,df_test))"
   ]
  },
  {
   "cell_type": "code",
   "execution_count": 11,
   "metadata": {
    "collapsed": true
   },
   "outputs": [],
   "source": [
    "import matplotlib.pyplot as plt"
   ]
  },
  {
   "cell_type": "code",
   "execution_count": 17,
   "metadata": {},
   "outputs": [
    {
     "data": {
      "image/png": "[encoded data removed]",
      "text/plain": [
       "<matplotlib.figure.Figure at 0x19451af06d8>"
      ]
     },
     "metadata": {},
     "output_type": "display_data"
    },
    {
     "data": {
      "text/plain": [
       "492.0"
      ]
     },
     "execution_count": 17,
     "metadata": {},
     "output_type": "execute_result"
    }
   ],
   "source": [
    "plt.plot(list(range(5,100,5)),erros)\n",
    "plt.show()\n",
    "min(erros)"
   ]
  },
  {
   "cell_type": "code",
   "execution_count": 12,
   "metadata": {},
   "outputs": [
    {
     "data": {
      "image/png": "[encoded data removed]",
      "text/plain": [
       "<matplotlib.figure.Figure at 0x169b4a75898>"
      ]
     },
     "metadata": {},
     "output_type": "display_data"
    },
    {
     "data": {
      "text/plain": [
       "201.0"
      ]
     },
     "execution_count": 12,
     "metadata": {},
     "output_type": "execute_result"
    }
   ],
   "source": [
    "plt.plot(list(range(5,500,5)),erros)\n",
    "plt.show()\n",
    "min(erros)"
   ]
  },
  {
   "cell_type": "code",
   "execution_count": 13,
   "metadata": {},
   "outputs": [
    {
     "data": {
      "text/plain": [
       "[array([False, False, False, False, False, False, False,  True, False,\n",
       "        False,  True,  True, False,  True, False, False, False, False,\n",
       "        False,  True, False], dtype=bool),\n",
       " array([False, False, False, False,  True,  True,  True,  True, False,\n",
       "        False,  True,  True,  True,  True,  True, False, False,  True,\n",
       "        False, False, False], dtype=bool),\n",
       " array([False, False, False,  True, False, False, False,  True, False,\n",
       "        False, False,  True,  True, False, False,  True, False,  True,\n",
       "        False,  True,  True], dtype=bool),\n",
       " array([False, False, False, False, False, False,  True,  True, False,\n",
       "        False,  True,  True,  True, False,  True,  True,  True,  True,\n",
       "         True,  True, False], dtype=bool),\n",
       " array([False, False,  True,  True,  True,  True,  True, False,  True,\n",
       "        False,  True,  True, False,  True,  True,  True, False,  True,\n",
       "        False,  True,  True], dtype=bool),\n",
       " array([False, False, False,  True,  True, False, False,  True, False,\n",
       "        False,  True,  True,  True,  True,  True,  True, False, False,\n",
       "         True,  True, False], dtype=bool),\n",
       " array([False, False, False, False,  True,  True,  True,  True,  True,\n",
       "         True,  True,  True,  True, False,  True,  True, False,  True,\n",
       "         True, False, False], dtype=bool),\n",
       " array([False, False,  True, False, False,  True,  True, False,  True,\n",
       "         True, False,  True,  True,  True, False,  True, False,  True,\n",
       "        False, False, False], dtype=bool),\n",
       " array([False, False, False,  True, False,  True,  True,  True, False,\n",
       "        False, False,  True,  True,  True, False, False, False, False,\n",
       "        False, False, False], dtype=bool),\n",
       " array([False, False,  True,  True, False,  True,  True, False,  True,\n",
       "         True,  True,  True,  True, False, False,  True,  True,  True,\n",
       "        False,  True,  True], dtype=bool),\n",
       " array([False, False, False,  True,  True, False, False,  True,  True,\n",
       "        False,  True,  True,  True,  True,  True, False, False, False,\n",
       "        False,  True, False], dtype=bool),\n",
       " array([False, False, False,  True, False, False, False,  True, False,\n",
       "        False, False,  True,  True,  True, False, False, False, False,\n",
       "        False,  True, False], dtype=bool),\n",
       " array([False, False, False, False,  True, False, False,  True, False,\n",
       "        False, False,  True,  True, False, False,  True, False,  True,\n",
       "        False, False,  True], dtype=bool),\n",
       " array([False, False, False, False, False,  True, False, False, False,\n",
       "        False, False,  True,  True,  True,  True, False, False, False,\n",
       "        False, False, False], dtype=bool),\n",
       " array([False, False, False,  True,  True, False,  True,  True, False,\n",
       "         True, False,  True, False,  True, False,  True,  True, False,\n",
       "        False,  True,  True], dtype=bool),\n",
       " array([False, False, False, False,  True, False, False,  True, False,\n",
       "        False,  True,  True, False,  True,  True,  True,  True,  True,\n",
       "        False,  True, False], dtype=bool),\n",
       " array([False, False, False, False, False,  True,  True, False,  True,\n",
       "        False,  True,  True, False,  True, False,  True, False,  True,\n",
       "        False,  True,  True], dtype=bool),\n",
       " array([False, False, False,  True,  True, False,  True,  True,  True,\n",
       "         True,  True,  True,  True,  True, False, False, False, False,\n",
       "        False, False, False], dtype=bool),\n",
       " array([False, False,  True,  True,  True, False,  True,  True,  True,\n",
       "        False,  True,  True,  True, False,  True, False,  True, False,\n",
       "        False, False,  True], dtype=bool),\n",
       " array([False, False, False,  True, False, False,  True,  True, False,\n",
       "         True,  True,  True,  True, False, False, False, False,  True,\n",
       "        False,  True, False], dtype=bool),\n",
       " array([False, False,  True,  True,  True,  True, False,  True,  True,\n",
       "         True, False,  True,  True, False, False, False, False,  True,\n",
       "        False, False, False], dtype=bool),\n",
       " array([False, False, False, False, False, False, False,  True, False,\n",
       "        False, False,  True,  True, False,  True, False, False, False,\n",
       "        False,  True, False], dtype=bool),\n",
       " array([False, False, False, False,  True, False,  True,  True,  True,\n",
       "        False,  True,  True, False,  True,  True, False, False, False,\n",
       "         True,  True, False], dtype=bool),\n",
       " array([False, False, False, False, False,  True,  True,  True, False,\n",
       "         True,  True,  True, False,  True, False,  True, False, False,\n",
       "         True, False,  True], dtype=bool),\n",
       " array([False, False, False, False,  True,  True,  True,  True,  True,\n",
       "         True,  True,  True,  True, False,  True,  True, False,  True,\n",
       "         True, False, False], dtype=bool),\n",
       " array([False, False, False,  True,  True, False,  True, False,  True,\n",
       "         True, False,  True,  True,  True,  True,  True, False,  True,\n",
       "        False,  True, False], dtype=bool),\n",
       " array([ True, False,  True,  True,  True,  True, False,  True,  True,\n",
       "        False,  True,  True,  True, False,  True, False,  True,  True,\n",
       "        False,  True, False], dtype=bool),\n",
       " array([False, False, False, False, False,  True,  True,  True, False,\n",
       "        False,  True,  True, False,  True, False, False,  True, False,\n",
       "         True,  True,  True], dtype=bool),\n",
       " array([False, False, False, False,  True, False,  True,  True, False,\n",
       "        False,  True,  True,  True,  True, False, False, False,  True,\n",
       "        False, False,  True], dtype=bool),\n",
       " array([False, False,  True,  True,  True,  True,  True,  True, False,\n",
       "        False,  True,  True,  True,  True,  True, False, False,  True,\n",
       "         True,  True, False], dtype=bool),\n",
       " array([False, False, False,  True,  True, False, False,  True,  True,\n",
       "        False,  True,  True,  True,  True, False,  True, False,  True,\n",
       "        False,  True,  True], dtype=bool),\n",
       " array([False, False,  True,  True,  True, False,  True,  True, False,\n",
       "         True,  True,  True,  True,  True,  True,  True,  True,  True,\n",
       "        False, False,  True], dtype=bool),\n",
       " array([False, False, False,  True,  True,  True, False,  True, False,\n",
       "        False, False,  True,  True, False, False, False, False,  True,\n",
       "        False,  True,  True], dtype=bool),\n",
       " array([False, False, False, False,  True,  True,  True,  True, False,\n",
       "        False,  True,  True,  True,  True, False,  True,  True, False,\n",
       "         True,  True,  True], dtype=bool),\n",
       " array([False, False, False,  True,  True,  True,  True,  True, False,\n",
       "        False,  True,  True, False,  True, False, False, False, False,\n",
       "        False, False, False], dtype=bool),\n",
       " array([False, False,  True,  True,  True,  True,  True, False,  True,\n",
       "         True,  True,  True,  True, False,  True,  True, False,  True,\n",
       "        False, False,  True], dtype=bool),\n",
       " array([False, False,  True,  True,  True, False, False,  True,  True,\n",
       "         True,  True,  True,  True, False,  True, False, False,  True,\n",
       "         True,  True,  True], dtype=bool),\n",
       " array([False, False, False,  True, False, False, False,  True,  True,\n",
       "        False,  True,  True, False,  True,  True, False, False,  True,\n",
       "         True, False, False], dtype=bool),\n",
       " array([False, False, False, False, False, False, False, False, False,\n",
       "        False,  True,  True,  True, False, False, False, False, False,\n",
       "        False, False, False], dtype=bool),\n",
       " array([False, False, False,  True,  True,  True, False,  True, False,\n",
       "        False,  True,  True,  True, False,  True,  True,  True, False,\n",
       "         True,  True,  True], dtype=bool),\n",
       " array([False, False, False, False, False, False, False, False,  True,\n",
       "         True, False,  True, False,  True, False, False, False, False,\n",
       "        False, False, False], dtype=bool),\n",
       " array([False, False, False, False, False,  True,  True,  True, False,\n",
       "         True,  True,  True, False,  True,  True, False, False, False,\n",
       "         True, False,  True], dtype=bool),\n",
       " array([False, False, False, False,  True, False, False,  True, False,\n",
       "        False, False,  True,  True, False, False, False, False, False,\n",
       "        False, False, False], dtype=bool),\n",
       " array([False, False, False,  True, False, False,  True, False,  True,\n",
       "        False, False,  True,  True, False,  True,  True, False, False,\n",
       "        False, False, False], dtype=bool),\n",
       " array([False, False, False, False, False, False, False, False,  True,\n",
       "        False, False,  True, False,  True, False, False, False, False,\n",
       "        False,  True, False], dtype=bool),\n",
       " array([False, False, False,  True, False,  True, False, False, False,\n",
       "         True, False,  True,  True, False, False, False, False, False,\n",
       "        False, False, False], dtype=bool),\n",
       " array([False, False, False,  True, False, False, False,  True, False,\n",
       "        False,  True,  True, False,  True,  True, False, False,  True,\n",
       "        False, False,  True], dtype=bool),\n",
       " array([False, False, False,  True, False,  True,  True,  True, False,\n",
       "         True,  True,  True, False,  True,  True, False, False,  True,\n",
       "        False, False, False], dtype=bool),\n",
       " array([False, False, False,  True, False, False, False,  True, False,\n",
       "        False, False,  True,  True,  True, False, False, False,  True,\n",
       "        False, False, False], dtype=bool),\n",
       " array([False, False, False,  True,  True, False, False,  True,  True,\n",
       "        False,  True,  True,  True,  True,  True, False,  True, False,\n",
       "         True, False,  True], dtype=bool),\n",
       " array([False, False,  True,  True,  True, False,  True,  True,  True,\n",
       "        False,  True,  True, False,  True, False, False,  True, False,\n",
       "        False,  True, False], dtype=bool),\n",
       " array([False, False, False,  True, False, False, False,  True, False,\n",
       "         True,  True,  True,  True,  True, False, False, False, False,\n",
       "         True, False,  True], dtype=bool),\n",
       " array([False, False, False,  True, False, False, False, False, False,\n",
       "        False, False,  True,  True,  True, False, False, False, False,\n",
       "        False,  True, False], dtype=bool),\n",
       " array([False, False, False, False, False, False, False, False,  True,\n",
       "        False, False,  True,  True, False,  True, False, False, False,\n",
       "        False, False, False], dtype=bool),\n",
       " array([False, False, False, False,  True, False,  True,  True,  True,\n",
       "        False, False,  True, False,  True,  True, False,  True, False,\n",
       "        False,  True, False], dtype=bool),\n",
       " array([False, False, False,  True,  True, False,  True, False,  True,\n",
       "         True, False,  True, False,  True,  True, False, False,  True,\n",
       "        False,  True,  True], dtype=bool),\n",
       " array([False, False,  True,  True,  True, False,  True,  True, False,\n",
       "        False,  True,  True, False,  True,  True, False,  True,  True,\n",
       "        False, False,  True], dtype=bool),\n",
       " array([False, False, False, False, False, False, False,  True, False,\n",
       "        False,  True,  True,  True, False, False, False, False, False,\n",
       "        False, False, False], dtype=bool),\n",
       " array([False, False,  True,  True,  True, False, False,  True,  True,\n",
       "        False,  True,  True,  True, False,  True,  True,  True, False,\n",
       "        False,  True, False], dtype=bool),\n",
       " array([False, False,  True,  True,  True,  True, False,  True, False,\n",
       "        False,  True,  True, False,  True, False,  True,  True,  True,\n",
       "        False, False, False], dtype=bool),\n",
       " array([False, False, False,  True, False, False, False,  True,  True,\n",
       "         True, False,  True, False,  True,  True,  True, False,  True,\n",
       "        False, False, False], dtype=bool),\n",
       " array([False, False, False, False, False,  True, False, False, False,\n",
       "         True, False,  True,  True, False, False, False, False, False,\n",
       "        False,  True, False], dtype=bool),\n",
       " array([False, False, False,  True,  True, False, False,  True,  True,\n",
       "         True,  True,  True,  True,  True,  True, False, False,  True,\n",
       "        False, False,  True], dtype=bool),\n",
       " array([False, False, False, False,  True,  True,  True,  True,  True,\n",
       "        False,  True,  True,  True,  True,  True, False, False,  True,\n",
       "        False,  True,  True], dtype=bool),\n",
       " array([False, False, False,  True,  True, False, False,  True, False,\n",
       "         True, False,  True,  True,  True,  True, False, False,  True,\n",
       "        False, False,  True], dtype=bool),\n",
       " array([False, False,  True,  True,  True, False,  True,  True,  True,\n",
       "         True,  True,  True,  True,  True,  True, False,  True,  True,\n",
       "         True,  True, False], dtype=bool),\n",
       " array([False, False, False,  True, False,  True, False,  True,  True,\n",
       "        False, False,  True, False,  True, False, False, False,  True,\n",
       "        False, False,  True], dtype=bool),\n",
       " array([False, False, False, False, False, False, False,  True, False,\n",
       "        False,  True,  True,  True, False, False, False, False, False,\n",
       "        False, False, False], dtype=bool),\n",
       " array([False, False, False,  True, False, False, False,  True, False,\n",
       "        False,  True,  True, False,  True,  True, False,  True,  True,\n",
       "         True, False, False], dtype=bool),\n",
       " array([False, False, False,  True,  True,  True, False,  True,  True,\n",
       "         True,  True,  True,  True, False,  True,  True, False,  True,\n",
       "         True,  True, False], dtype=bool),\n",
       " array([False, False,  True,  True, False,  True,  True,  True, False,\n",
       "         True, False,  True,  True,  True, False, False, False,  True,\n",
       "        False, False, False], dtype=bool),\n",
       " array([False, False, False, False,  True,  True, False, False,  True,\n",
       "        False,  True,  True, False,  True, False, False, False, False,\n",
       "        False,  True, False], dtype=bool),\n",
       " array([False, False, False,  True, False, False, False,  True,  True,\n",
       "        False,  True,  True,  True,  True, False, False, False,  True,\n",
       "        False, False,  True], dtype=bool),\n",
       " array([False, False, False, False, False, False, False,  True, False,\n",
       "        False,  True,  True,  True, False, False, False, False, False,\n",
       "        False, False, False], dtype=bool),\n",
       " array([False, False, False, False, False,  True, False,  True, False,\n",
       "        False, False,  True, False,  True,  True,  True,  True, False,\n",
       "        False, False, False], dtype=bool),\n",
       " array([False, False,  True,  True, False,  True, False,  True,  True,\n",
       "        False, False,  True, False,  True, False,  True, False,  True,\n",
       "        False, False, False], dtype=bool),\n",
       " array([False, False, False, False, False, False,  True,  True, False,\n",
       "        False,  True,  True,  True, False, False, False, False, False,\n",
       "        False, False, False], dtype=bool),\n",
       " array([False, False, False,  True,  True,  True, False, False,  True,\n",
       "        False,  True,  True,  True,  True, False,  True,  True,  True,\n",
       "         True,  True, False], dtype=bool),\n",
       " array([False, False,  True,  True,  True,  True, False,  True,  True,\n",
       "        False,  True,  True,  True, False,  True,  True,  True,  True,\n",
       "        False, False, False], dtype=bool),\n",
       " array([False, False, False, False,  True, False, False,  True, False,\n",
       "        False, False,  True,  True,  True, False, False, False, False,\n",
       "        False, False, False], dtype=bool),\n",
       " array([False, False,  True,  True, False, False,  True,  True, False,\n",
       "        False,  True,  True,  True, False,  True,  True,  True, False,\n",
       "         True, False, False], dtype=bool),\n",
       " array([False, False, False, False,  True,  True,  True,  True,  True,\n",
       "        False,  True,  True, False,  True, False, False,  True,  True,\n",
       "        False, False,  True], dtype=bool),\n",
       " array([False, False, False,  True,  True,  True, False,  True, False,\n",
       "        False,  True,  True,  True, False,  True,  True,  True, False,\n",
       "         True,  True,  True], dtype=bool),\n",
       " array([False, False,  True,  True, False,  True, False,  True, False,\n",
       "        False,  True,  True,  True,  True, False, False, False,  True,\n",
       "         True, False, False], dtype=bool),\n",
       " array([False, False,  True,  True,  True,  True, False,  True,  True,\n",
       "        False,  True,  True,  True, False, False, False,  True,  True,\n",
       "        False,  True,  True], dtype=bool),\n",
       " array([False, False, False, False,  True,  True,  True,  True,  True,\n",
       "         True,  True,  True,  True,  True,  True, False, False,  True,\n",
       "         True, False, False], dtype=bool),\n",
       " array([False, False, False,  True,  True, False, False,  True,  True,\n",
       "        False, False,  True,  True, False, False, False, False,  True,\n",
       "        False, False,  True], dtype=bool),\n",
       " array([False, False,  True,  True, False, False, False,  True,  True,\n",
       "        False, False,  True, False,  True,  True,  True,  True,  True,\n",
       "         True,  True, False], dtype=bool),\n",
       " array([False, False, False, False,  True,  True,  True,  True,  True,\n",
       "        False,  True,  True,  True, False,  True, False, False, False,\n",
       "        False,  True, False], dtype=bool),\n",
       " array([False, False,  True,  True,  True,  True, False,  True,  True,\n",
       "        False,  True,  True,  True, False,  True, False,  True, False,\n",
       "         True, False,  True], dtype=bool),\n",
       " array([False, False, False,  True,  True, False, False,  True, False,\n",
       "        False,  True,  True,  True,  True,  True, False, False,  True,\n",
       "        False, False,  True], dtype=bool),\n",
       " array([False, False,  True,  True,  True,  True, False,  True, False,\n",
       "        False, False,  True,  True, False,  True,  True, False,  True,\n",
       "        False, False, False], dtype=bool),\n",
       " array([False, False, False,  True,  True, False, False,  True, False,\n",
       "        False,  True,  True,  True,  True,  True, False, False,  True,\n",
       "        False, False, False], dtype=bool),\n",
       " array([False, False, False,  True,  True, False, False,  True, False,\n",
       "        False,  True,  True,  True,  True,  True, False, False,  True,\n",
       "        False, False,  True], dtype=bool),\n",
       " array([False, False, False,  True,  True, False, False,  True, False,\n",
       "        False,  True,  True,  True, False, False, False, False,  True,\n",
       "         True, False,  True], dtype=bool),\n",
       " array([False, False, False,  True, False, False, False,  True, False,\n",
       "        False, False,  True,  True,  True, False, False, False,  True,\n",
       "        False,  True, False], dtype=bool),\n",
       " array([False, False, False, False,  True,  True,  True,  True, False,\n",
       "        False,  True,  True,  True, False,  True, False,  True, False,\n",
       "        False,  True,  True], dtype=bool),\n",
       " array([False, False, False, False, False, False, False,  True, False,\n",
       "        False,  True,  True,  True, False, False, False, False, False,\n",
       "        False, False, False], dtype=bool),\n",
       " array([False, False, False,  True,  True, False, False,  True, False,\n",
       "         True,  True,  True, False,  True, False, False, False,  True,\n",
       "        False, False,  True], dtype=bool)]"
      ]
     },
     "execution_count": 13,
     "metadata": {},
     "output_type": "execute_result"
    }
   ],
   "source": [
    "selectors"
   ]
  }
 ],
 "metadata": {
  "kernelspec": {
   "display_name": "Python 3",
   "language": "python",
   "name": "python3"
  },
  "language_info": {
   "codemirror_mode": {
    "name": "ipython",
    "version": 3
   },
   "file_extension": ".py",
   "mimetype": "text/x-python",
   "name": "python",
   "nbconvert_exporter": "python",
   "pygments_lexer": "ipython3",
   "version": "3.6.3"
  }
 },
 "nbformat": 4,
 "nbformat_minor": 2
}
